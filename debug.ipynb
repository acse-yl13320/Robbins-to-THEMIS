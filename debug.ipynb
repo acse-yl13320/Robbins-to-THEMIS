{
 "cells": [
  {
   "cell_type": "code",
   "execution_count": 13,
   "source": [
    "import os\n",
    "from tqdm import tqdm"
   ],
   "outputs": [],
   "metadata": {}
  },
  {
   "cell_type": "code",
   "execution_count": 15,
   "source": [
    "file_names = os.listdir('giles/labels/')\n",
    "os.mkdir('giles/revised_labels/')\n",
    "for file_name in tqdm(file_names):\n",
    "    f = open('giles/labels/' + file_name, 'r')\n",
    "    lines = f.read().splitlines()\n",
    "    f.close()\n",
    "    save = False\n",
    "    for i, line in enumerate(lines):\n",
    "        c, x, y, w, h, id = line.split(' ')\n",
    "        x1 = float(x) - (float(w) / 2 * 1.05)\n",
    "        y1 = float(y) - (float(h) / 2 * 1.05)\n",
    "        x2 = float(x) + (float(w) / 2 * 1.05)\n",
    "        y2 = float(y) + (float(h) / 2 * 1.05)\n",
    "        if x1 < 0 or y1 < 0 or x2 > 1 or y2 > 1 or 1:\n",
    "            x1 = max(x1, 0)\n",
    "            y1 = max(y1, 0)\n",
    "            x2 = min(x2, 1)\n",
    "            y2 = min(y2, 1)\n",
    "            x = (x1 + x2) / 2\n",
    "            y = (y1 + y2) / 2\n",
    "            w = (x2 - x1)\n",
    "            h = (y2 - y1)\n",
    "            line_new = ' '.join([str(c), str(x), str(y), str(w), str(h), str(id)])\n",
    "            lines[i] = line_new\n",
    "            save = True\n",
    "    if save:\n",
    "        f = open('giles/revised_labels/' + file_name, 'w')\n",
    "        for line in lines:\n",
    "            f.write(line + '\\n')\n",
    "        f.close()"
   ],
   "outputs": [
    {
     "output_type": "stream",
     "name": "stderr",
     "text": [
      "100%|██████████| 804/804 [00:00<00:00, 5555.06it/s]\n"
     ]
    }
   ],
   "metadata": {}
  },
  {
   "cell_type": "code",
   "execution_count": 1,
   "source": [
    "os.listdir('correct_craters')"
   ],
   "outputs": [
    {
     "output_type": "execute_result",
     "data": {
      "text/plain": [
       "['valid', 'dataset']"
      ]
     },
     "metadata": {},
     "execution_count": 1
    }
   ],
   "metadata": {}
  }
 ],
 "metadata": {
  "orig_nbformat": 4,
  "language_info": {
   "name": "python",
   "version": "3.9.2",
   "mimetype": "text/x-python",
   "codemirror_mode": {
    "name": "ipython",
    "version": 3
   },
   "pygments_lexer": "ipython3",
   "nbconvert_exporter": "python",
   "file_extension": ".py"
  },
  "kernelspec": {
   "name": "python3",
   "display_name": "Python 3.9.2 64-bit ('base': conda)"
  },
  "interpreter": {
   "hash": "e41b0962b708759b900169db7fb96742b0b5de9a29f65f2bf3bc38df466a6666"
  }
 },
 "nbformat": 4,
 "nbformat_minor": 2
}