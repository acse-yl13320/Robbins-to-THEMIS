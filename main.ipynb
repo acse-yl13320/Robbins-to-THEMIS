{
 "metadata": {
  "language_info": {
   "codemirror_mode": {
    "name": "ipython",
    "version": 3
   },
   "file_extension": ".py",
   "mimetype": "text/x-python",
   "name": "python",
   "nbconvert_exporter": "python",
   "pygments_lexer": "ipython3",
   "version": "3.9.2"
  },
  "orig_nbformat": 4,
  "kernelspec": {
   "name": "python3",
   "display_name": "Python 3.9.2 64-bit ('base': conda)"
  },
  "interpreter": {
   "hash": "e41b0962b708759b900169db7fb96742b0b5de9a29f65f2bf3bc38df466a6666"
  }
 },
 "nbformat": 4,
 "nbformat_minor": 2,
 "cells": [
  {
   "cell_type": "code",
   "execution_count": 45,
   "metadata": {},
   "outputs": [],
   "source": [
    "import pandas as pd\n",
    "import numpy as np\n",
    "from tifffile import imread\n",
    "from PIL import Image"
   ]
  },
  {
   "cell_type": "code",
   "execution_count": null,
   "metadata": {},
   "outputs": [],
   "source": [
    "data = pd.read_csv('RobbinsCraters_tab.csv')\n",
    "data.head()"
   ]
  },
  {
   "cell_type": "code",
   "execution_count": 3,
   "metadata": {},
   "outputs": [],
   "source": [
    "lat = data['LATITUDE_ELLIPSE_IMAGE']\n",
    "lon = data['LONGITUDE_ELLIPSE_IMAGE']"
   ]
  },
  {
   "cell_type": "code",
   "execution_count": 35,
   "metadata": {},
   "outputs": [
    {
     "output_type": "execute_result",
     "data": {
      "text/plain": [
       "16738"
      ]
     },
     "metadata": {},
     "execution_count": 35
    }
   ],
   "source": [
    "data_0N315E = data[(lat >= 0) & (lat < 30) & (lon >= -45) & (lon < 0)]\n",
    "data_0N315E['DIAM_CIRCLE_IMAGE'].count()"
   ]
  },
  {
   "cell_type": "code",
   "execution_count": 23,
   "metadata": {},
   "outputs": [],
   "source": [
    "def get_lat_lon_base(file_name):\n",
    "    code = file_name.split('_')[-2]\n",
    "    lat = int(code[0 : 2])\n",
    "    if code[2] == 'S':\n",
    "        lat = -lat\n",
    "    lon = int(code[3 : -1])\n",
    "    if lon >= 180:\n",
    "        lon -= 360\n",
    "    return lat, lon"
   ]
  },
  {
   "cell_type": "code",
   "execution_count": 38,
   "metadata": {},
   "outputs": [
    {
     "output_type": "execute_result",
     "data": {
      "text/plain": [
       "(17783, 26674)"
      ]
     },
     "metadata": {},
     "execution_count": 38
    }
   ],
   "source": [
    "file_name = 'THEMIS_DayIR_ControlledMosaic_OxiaPalus_00N315E_100mpp.tif'\n",
    "im = imread(file_name)\n",
    "im.shape"
   ]
  },
  {
   "cell_type": "code",
   "execution_count": 49,
   "metadata": {},
   "outputs": [
    {
     "output_type": "stream",
     "name": "stdout",
     "text": [
      "0 -45\n"
     ]
    }
   ],
   "source": [
    "resolution = 592.747\n",
    "round_resolution = round(resolution)\n",
    "lat_base, lon_base = get_lat_lon_base(file_name)\n",
    "lat_range = int(im.shape[0] / resolution)\n",
    "lon_range = int(im.shape[1] / resolution)\n",
    "print(lat_base, lon_base)"
   ]
  },
  {
   "cell_type": "code",
   "execution_count": 39,
   "metadata": {},
   "outputs": [],
   "source": [
    "xs = np.linspace(0, im.shape[0], lat_range + 1)[:-1]\n",
    "ys = np.linspace(0, im.shape[1], lon_range + 1)[:-1]"
   ]
  },
  {
   "cell_type": "code",
   "execution_count": 54,
   "metadata": {},
   "outputs": [],
   "source": [
    "for i, x in enumerate(xs):\n",
    "    for j, y in enumerate(ys):\n",
    "        file_name = 'images/' + str(lat_base + i) + '_' + str(lon_base + j) + '_.png'\n",
    "        x = round(x)\n",
    "        y = round(y)\n",
    "        pillow_im = Image.fromarray(im[x : x + round_resolution, y : y + round_resolution])\n",
    "        pillow_im.save(file_name, 'PNG')"
   ]
  },
  {
   "cell_type": "code",
   "execution_count": null,
   "metadata": {},
   "outputs": [],
   "source": []
  }
 ]
}